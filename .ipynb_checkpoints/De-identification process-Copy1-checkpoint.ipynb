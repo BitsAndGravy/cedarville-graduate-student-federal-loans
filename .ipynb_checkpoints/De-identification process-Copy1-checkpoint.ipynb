{
 "cells": [
  {
   "cell_type": "markdown",
   "id": "01ba19ec",
   "metadata": {},
   "source": [
    "# De-identifying Cedarville's loan data\n",
    "## I. Purpose\n",
    "\n",
    "* Risk Reduction: De-identifying data reduces the risk of data breaches and unauthorized access.\n",
    "* Data Sharing: De-identified data is easier to share with third parties, facilitating research and analysis.\n",
    "* Legal Compliance: Organizations may not be required to report breaches involving de-identified data.\n",
    "* Privacy Protection: Individuals’ personal information remains confidential.\n",
    "\n",
    "## II. Columns to change\n",
    "* `Student ID`\n",
    "* `Student Name`\n",
    "* `Loan ID`\n",
    "\n",
    "## III. Methodology\n",
    "1. Edit `Master`\n",
    "    * Add column after `Student ID`, `Student Name`, and `Loan ID` filled with sequential names/numbers\n",
    "2. Edit `Loans`\n",
    "    * Add columns respective to information I want to update\n",
    "    * Update `Loans` with information from `Master` on matching columns\n",
    "3. Final steps\n",
    "    * Remove identifiable columns\n",
    "    * Rename de-identified columns\n",
    "    * Export each file as a `.csv`\n",
    "## IV. De-identifying the data"
   ]
  },
  {
   "cell_type": "code",
   "execution_count": 1,
   "id": "4cccbb44",
   "metadata": {},
   "outputs": [],
   "source": [
    "import pandas as pd\n",
    "import numpy as np\n",
    "import seaborn as sns\n",
    "import matplotlib.pyplot as plt\n",
    "import seaborn as sns\n",
    "from scipy.stats import pearsonr, chi2_contingency\n",
    "\n",
    "loans_csv = pd.read_csv(\n",
    "    r'C:\\Users\\jsbit\\OneDrive\\Documents\\Coding 2023\\Christie Tim Pandas 2.9.24\\Modified CSV files\\Loans.csv', \n",
    "    encoding_errors='replace')\n",
    "master_csv = pd.read_csv(\n",
    "    r'C:\\Users\\jsbit\\OneDrive\\Documents\\Coding 2023\\Christie Tim Pandas 2.9.24\\Modified CSV files\\Master.csv', \n",
    "    encoding_errors='replace')"
   ]
  },
  {
   "cell_type": "code",
   "execution_count": 2,
   "id": "1fed7d47",
   "metadata": {},
   "outputs": [],
   "source": [
    "# Add new columns of de-identified information\n",
    "master_csv.insert(0, 'New_ID #', range(6000, 6000 + len(master_csv)))\n",
    "master_csv.insert(2, 'New_Name', 'Student')\n",
    "master_csv.insert(7, 'New_Loan ID', range(90000, 90000+len(master_csv)))\n",
    "master_csv['New_Name'] = master_csv['New_ID #'].apply(\n",
    "    lambda x: 'Student{}'.format(x))"
   ]
  },
  {
   "cell_type": "code",
   "execution_count": 3,
   "id": "b44a1af7",
   "metadata": {},
   "outputs": [],
   "source": [
    "# Add columns I wish to update in 'Loans'\n",
    "loans_csv.insert(0, 'New_ID #', 6)\n",
    "loans_csv.insert(2, 'New_Name', 'Student')\n",
    "loans_csv.insert(11, 'New_Loan ID', 'Loan ID')"
   ]
  },
  {
   "cell_type": "code",
   "execution_count": 4,
   "id": "525c6a2a",
   "metadata": {},
   "outputs": [],
   "source": [
    "# Update 'Loans'\n",
    "loans_csv = loans_csv.set_index('Name')\n",
    "master_csv = master_csv.set_index('Name')\n",
    "loans_csv.update(master_csv)\n",
    "loans_csv.reset_index(inplace=True)\n",
    "master_csv.reset_index(inplace=True)"
   ]
  },
  {
   "cell_type": "code",
   "execution_count": 5,
   "id": "17b38e26",
   "metadata": {},
   "outputs": [],
   "source": [
    "# Remove identifiable columns\n",
    "clean_master = master_csv[['New_ID #', 'New_Name', 'GS Program', \n",
    "                           'Unnamed: 3', 'Unnamed: 4']]\n",
    "clean_loans = loans_csv[['New_ID #', 'New_Name', 'Term', 'Loan', 'Term Awd', \n",
    "                         'Term Fee', 'Term Disb', 'Status', 'New_Loan ID']]"
   ]
  },
  {
   "cell_type": "code",
   "execution_count": 6,
   "id": "3356946e",
   "metadata": {},
   "outputs": [],
   "source": [
    "# Rename de-identified columns\n",
    "clean_master.columns = ['ID #', 'Name', 'GS Program', 'Unnamed: 3', 'Unnamed: 4']\n",
    "clean_loans.columns = ['ID', 'Name', 'Term', 'Loan', 'Term Awd', \n",
    "                       'Term Fee', 'Term Disb', 'Status', 'Loan ID']"
   ]
  },
  {
   "cell_type": "code",
   "execution_count": 7,
   "id": "982f13ce",
   "metadata": {},
   "outputs": [],
   "source": [
    "# Export\n",
    "clean_master.to_csv('clean_master.csv', index=False)\n",
    "clean_loans.to_csv('clean_loans.csv', index=False)"
   ]
  }
 ],
 "metadata": {
  "kernelspec": {
   "display_name": "Python 3 (ipykernel)",
   "language": "python",
   "name": "python3"
  },
  "language_info": {
   "codemirror_mode": {
    "name": "ipython",
    "version": 3
   },
   "file_extension": ".py",
   "mimetype": "text/x-python",
   "name": "python",
   "nbconvert_exporter": "python",
   "pygments_lexer": "ipython3",
   "version": "3.11.5"
  }
 },
 "nbformat": 4,
 "nbformat_minor": 5
}
